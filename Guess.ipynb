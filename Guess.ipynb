{
  "nbformat": 4,
  "nbformat_minor": 0,
  "metadata": {
    "colab": {
      "name": "Guess.ipynb",
      "version": "0.3.2",
      "provenance": [],
      "collapsed_sections": []
    },
    "kernelspec": {
      "name": "python3",
      "display_name": "Python 3"
    }
  },
  "cells": [
    {
      "metadata": {
        "id": "R1vJfx9cNg9j",
        "colab_type": "code",
        "colab": {}
      },
      "cell_type": "code",
      "source": [
        "from random import randint\n",
        "\n",
        "a=\"go\"\n",
        "var=(randint(1,10))\n",
        "\n",
        "def testy():\n",
        "    \"Test Guess\"\n",
        "    if(guess == var):\n",
        "        print(\"RIGHT!\")\n",
        "        global a\n",
        "        a=\"stop\"\n",
        "        return\n",
        "    elif (guess > var):\n",
        "        print(\"lower\")\n",
        "    elif (guess < var):\n",
        "        print(\"higher\")\n",
        "    else:\n",
        "        print(\"BAD INPUT\")\n",
        "    return\n",
        "\n",
        "while a==\"go\":\n",
        "    guess = int(input(\"Guess a number 1 to 10!\"))\n",
        "    testy()\n",
        "print (\"Good bye!\")"
      ],
      "execution_count": 0,
      "outputs": []
    }
  ]
}